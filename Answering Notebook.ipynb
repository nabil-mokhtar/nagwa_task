{
 "cells": [
  {
   "cell_type": "markdown",
   "metadata": {},
   "source": [
    "# Python Technologist Application Test"
   ]
  },
  {
   "cell_type": "markdown",
   "metadata": {},
   "source": [
    "## Problem 1\n"
   ]
  },
  {
   "cell_type": "markdown",
   "metadata": {},
   "source": [
    "[This is](https://ar.wikipedia.org/wiki/%D9%82%D8%A7%D8%A6%D9%85%D8%A9_%D8%A3%D9%81%D8%B6%D9%84_%D9%85%D8%A6%D8%A9_%D8%B1%D9%88%D8%A7%D9%8A%D8%A9_%D8%B9%D8%B1%D8%A8%D9%8A%D8%A9) a Wikipedia webpage listing the 100 best Arabic novels according to the Arab Writers Union. In case it did not open for any reason try [this](https://www.marefa.org/%D9%82%D8%A7%D8%A6%D9%85%D8%A9_%D8%A3%D9%81%D8%B6%D9%84_%D8%A7%D9%84%D9%83%D8%AA%D8%A8_%D8%A7%D9%84%D8%B9%D8%B1%D8%A8%D9%8A%D8%A9) alternative link for the same info \n",
    "\n",
    "Using Python, do the following:\n",
    "\n",
    "1. Scrap the webpage to get the books table and write it to excel file, Keeping all the content from the HTML table including Hyper-links if any.\n",
    "2. Write the content to a Google sheet \n"
   ]
  },
  {
   "cell_type": "markdown",
   "metadata": {},
   "source": [
    "Write your code in the following cell. You are free to add cells as much as you need."
   ]
  },
  {
   "cell_type": "code",
   "execution_count": null,
   "metadata": {},
   "outputs": [],
   "source": [
    "! pip install requests bs4 pandas openpyxl\n",
    "! pip3 install gspread pygsheets\n",
    "! pip3 install --upgrade google-api-python-client oauth2client "
   ]
  },
  {
   "cell_type": "code",
   "execution_count": 2,
   "metadata": {},
   "outputs": [],
   "source": [
    "import requests\n",
    "import pandas as pd\n",
    "from bs4 import BeautifulSoup\n",
    "\n",
    "url = 'https://ar.wikipedia.org/wiki/%D9%82%D8%A7%D8%A6%D9%85%D8%A9_%D8%A3%D9%81%D8%B6%D9%84_%D9%85%D8%A6%D8%A9_%D8%B1%D9%88%D8%A7%D9%8A%D8%A9_%D8%B9%D8%B1%D8%A8%D9%8A%D8%A9'\n",
    "home='https://ar.wikipedia.org'\n",
    "page = requests.get(url)\n",
    "\n",
    "soup = BeautifulSoup(page.content)"
   ]
  },
  {
   "cell_type": "code",
   "execution_count": 3,
   "metadata": {},
   "outputs": [],
   "source": [
    "table_head=[\n",
    "    head.text\n",
    "    for head in \n",
    "    soup.find(\"table\", class_=\"wikitable\").find_all('th')\n",
    "]\n",
    "\n",
    "'''\n",
    "\n",
    "'''\n",
    "def bookUrl(item,index): \n",
    "    # if  '(الصفحة غير موجودة)' not in item.td.find_next_siblings(limit = 3)[index].a['title'] :\n",
    "    return home+item.td.find_next_siblings(limit = 3)[index].a['href']\n",
    "    # else :\n",
    "    #     return False\n",
    "            \n",
    "\n",
    "'''\n",
    "\n",
    "''' \n",
    "def  bookName(item,index):\n",
    "    return item.td.find_next_siblings(limit = 3)[index].text\n",
    "    "
   ]
  },
  {
   "cell_type": "code",
   "execution_count": 4,
   "metadata": {},
   "outputs": [],
   "source": [
    "table = [\n",
    "    \n",
    "{\n",
    "table_head[0]:item.td.text,\n",
    "table_head[1]:('=HYPERLINK(\"{}\", \"{}\")'.format(bookUrl(item,0), bookName(item,0)) if bookUrl(item,0) else  bookName(item,0)),\n",
    "table_head[2]:('=HYPERLINK(\"{}\", \"{}\")'.format(bookUrl(item,1), bookName(item,1)) if bookUrl(item,1) else  bookName(item,1)),\n",
    "table_head[3]:('=HYPERLINK(\"{}\", \"{}\")'.format(bookUrl(item,2), bookName(item,2)) if bookUrl(item,2) else  bookName(item,2)) }\n",
    "    \n",
    "    \n",
    "for item in \n",
    "soup.find(\"table\", class_=\"wikitable\").find_all('tr')\n",
    "if item.td is not None\n",
    "]"
   ]
  },
  {
   "cell_type": "code",
   "execution_count": 5,
   "metadata": {},
   "outputs": [],
   "source": [
    "df = pd.DataFrame(table)\n",
    "df.to_excel(excel_writer='Book_Table.xlsx',index=False)"
   ]
  },
  {
   "cell_type": "code",
   "execution_count": 23,
   "metadata": {},
   "outputs": [
    {
     "name": "stdout",
     "output_type": "stream",
     "text": [
      "https://docs.google.com/spreadsheets/d/15ERmviQNI8t-3TbESqjOlKovl2ZIrqn4oFoXTRuXpKU\n"
     ]
    }
   ],
   "source": [
    "import pygsheets\n",
    "\n",
    "gc = pygsheets.authorize(service_file='nagwatask-db5953efd44c.json')\n",
    "sh = gc.open(\"top_100_best_novels\")\n",
    "print(sh.url)\n",
    "wks = sh[0]\n",
    "wks.set_dataframe(df,(1,1))"
   ]
  },
  {
   "cell_type": "markdown",
   "metadata": {},
   "source": [
    "## Problem 2 \n",
    "\n",
    "Create REST APIs in Python using Flask to read (Get) and write (Post, Delete, Put) the local excel file from the previous problem. Please make sure to bundle all the API dependencies to be uasble. Deploying the API to Heroku would be a big plus."
   ]
  },
  {
   "cell_type": "markdown",
   "metadata": {},
   "source": [
    "Write your code in the following cell. You are free to add cells as much as you need."
   ]
  },
  {
   "cell_type": "code",
   "execution_count": 7,
   "metadata": {},
   "outputs": [
    {
     "name": "stdout",
     "output_type": "stream",
     "text": [
      "Requirement already satisfied: flask==2.1.2 in c:\\users\\nabil\\appdata\\local\\packages\\pythonsoftwarefoundation.python.3.10_qbz5n2kfra8p0\\localcache\\local-packages\\python310\\site-packages (2.1.2)\n",
      "Requirement already satisfied: requests in c:\\users\\nabil\\appdata\\local\\packages\\pythonsoftwarefoundation.python.3.10_qbz5n2kfra8p0\\localcache\\local-packages\\python310\\site-packages (2.28.1)\n",
      "Requirement already satisfied: jsonify in c:\\users\\nabil\\appdata\\local\\packages\\pythonsoftwarefoundation.python.3.10_qbz5n2kfra8p0\\localcache\\local-packages\\python310\\site-packages (0.5)\n",
      "Requirement already satisfied: flask-restful in c:\\users\\nabil\\appdata\\local\\packages\\pythonsoftwarefoundation.python.3.10_qbz5n2kfra8p0\\localcache\\local-packages\\python310\\site-packages (0.3.9)\n",
      "Requirement already satisfied: pyexcel in c:\\users\\nabil\\appdata\\local\\packages\\pythonsoftwarefoundation.python.3.10_qbz5n2kfra8p0\\localcache\\local-packages\\python310\\site-packages (0.7.0)\n",
      "Requirement already satisfied: click>=8.0 in c:\\users\\nabil\\appdata\\local\\packages\\pythonsoftwarefoundation.python.3.10_qbz5n2kfra8p0\\localcache\\local-packages\\python310\\site-packages (from flask==2.1.2) (8.1.3)\n",
      "Requirement already satisfied: Werkzeug>=2.0 in c:\\users\\nabil\\appdata\\local\\packages\\pythonsoftwarefoundation.python.3.10_qbz5n2kfra8p0\\localcache\\local-packages\\python310\\site-packages (from flask==2.1.2) (2.1.2)\n",
      "Requirement already satisfied: itsdangerous>=2.0 in c:\\users\\nabil\\appdata\\local\\packages\\pythonsoftwarefoundation.python.3.10_qbz5n2kfra8p0\\localcache\\local-packages\\python310\\site-packages (from flask==2.1.2) (2.1.2)\n",
      "Requirement already satisfied: Jinja2>=3.0 in c:\\users\\nabil\\appdata\\local\\packages\\pythonsoftwarefoundation.python.3.10_qbz5n2kfra8p0\\localcache\\local-packages\\python310\\site-packages (from flask==2.1.2) (3.1.2)\n",
      "Requirement already satisfied: urllib3<1.27,>=1.21.1 in c:\\users\\nabil\\appdata\\local\\packages\\pythonsoftwarefoundation.python.3.10_qbz5n2kfra8p0\\localcache\\local-packages\\python310\\site-packages (from requests) (1.26.12)\n",
      "Requirement already satisfied: certifi>=2017.4.17 in c:\\users\\nabil\\appdata\\local\\packages\\pythonsoftwarefoundation.python.3.10_qbz5n2kfra8p0\\localcache\\local-packages\\python310\\site-packages (from requests) (2022.9.24)\n",
      "Requirement already satisfied: idna<4,>=2.5 in c:\\users\\nabil\\appdata\\local\\packages\\pythonsoftwarefoundation.python.3.10_qbz5n2kfra8p0\\localcache\\local-packages\\python310\\site-packages (from requests) (3.4)\n",
      "Requirement already satisfied: charset-normalizer<3,>=2 in c:\\users\\nabil\\appdata\\local\\packages\\pythonsoftwarefoundation.python.3.10_qbz5n2kfra8p0\\localcache\\local-packages\\python310\\site-packages (from requests) (2.1.1)\n",
      "Requirement already satisfied: six>=1.3.0 in c:\\users\\nabil\\appdata\\local\\packages\\pythonsoftwarefoundation.python.3.10_qbz5n2kfra8p0\\localcache\\local-packages\\python310\\site-packages (from flask-restful) (1.16.0)\n",
      "Requirement already satisfied: aniso8601>=0.82 in c:\\users\\nabil\\appdata\\local\\packages\\pythonsoftwarefoundation.python.3.10_qbz5n2kfra8p0\\localcache\\local-packages\\python310\\site-packages (from flask-restful) (9.0.1)\n",
      "Requirement already satisfied: pytz in c:\\users\\nabil\\appdata\\local\\packages\\pythonsoftwarefoundation.python.3.10_qbz5n2kfra8p0\\localcache\\local-packages\\python310\\site-packages (from flask-restful) (2022.5)\n",
      "Requirement already satisfied: texttable>=0.8.2 in c:\\users\\nabil\\appdata\\local\\packages\\pythonsoftwarefoundation.python.3.10_qbz5n2kfra8p0\\localcache\\local-packages\\python310\\site-packages (from pyexcel) (1.6.4)\n",
      "Requirement already satisfied: pyexcel-io>=0.6.2 in c:\\users\\nabil\\appdata\\local\\packages\\pythonsoftwarefoundation.python.3.10_qbz5n2kfra8p0\\localcache\\local-packages\\python310\\site-packages (from pyexcel) (0.6.6)\n",
      "Requirement already satisfied: lml>=0.0.4 in c:\\users\\nabil\\appdata\\local\\packages\\pythonsoftwarefoundation.python.3.10_qbz5n2kfra8p0\\localcache\\local-packages\\python310\\site-packages (from pyexcel) (0.1.0)\n",
      "Requirement already satisfied: chardet in c:\\users\\nabil\\appdata\\local\\packages\\pythonsoftwarefoundation.python.3.10_qbz5n2kfra8p0\\localcache\\local-packages\\python310\\site-packages (from pyexcel) (5.0.0)\n",
      "Requirement already satisfied: colorama in c:\\users\\nabil\\appdata\\local\\packages\\pythonsoftwarefoundation.python.3.10_qbz5n2kfra8p0\\localcache\\local-packages\\python310\\site-packages (from click>=8.0->flask==2.1.2) (0.4.5)\n",
      "Requirement already satisfied: MarkupSafe>=2.0 in c:\\users\\nabil\\appdata\\local\\packages\\pythonsoftwarefoundation.python.3.10_qbz5n2kfra8p0\\localcache\\local-packages\\python310\\site-packages (from Jinja2>=3.0->flask==2.1.2) (2.1.1)\n"
     ]
    },
    {
     "name": "stderr",
     "output_type": "stream",
     "text": [
      "\n",
      "[notice] A new release of pip available: 22.2.2 -> 22.3\n",
      "[notice] To update, run: C:\\Users\\Nabil\\AppData\\Local\\Microsoft\\WindowsApps\\PythonSoftwareFoundation.Python.3.10_qbz5n2kfra8p0\\python.exe -m pip install --upgrade pip\n"
     ]
    }
   ],
   "source": [
    "! pip install flask==2.1.2  requests jsonify flask-restful pyexcel"
   ]
  },
  {
   "cell_type": "code",
   "execution_count": 8,
   "metadata": {},
   "outputs": [],
   "source": [
    "from flask import Flask, request, jsonify, json\n",
    "from flask_restful import Resource, Api, abort, reqparse\n",
    "import pyexcel as p\n",
    "from openpyxl import load_workbook\n",
    "\n",
    "app = Flask(__name__)\n",
    "api = Api(app)"
   ]
  },
  {
   "cell_type": "markdown",
   "metadata": {},
   "source": [
    "### Models"
   ]
  },
  {
   "cell_type": "code",
   "execution_count": 9,
   "metadata": {},
   "outputs": [],
   "source": [
    "\n",
    "class BooksModel:\n",
    "\n",
    "    def __init__(self):\n",
    "        self.dictionary = None\n",
    "        self.fileName = \"Book_Table.xlsx\"\n",
    "        self.sheet = p.get_sheet(file_name=self.fileName)\n",
    "        self.wb = load_workbook('Book_Table.xlsx')\n",
    "        self.books = self.wb.active\n",
    "\n",
    "    def update_dict(self):\n",
    "        self.wb = load_workbook('Book_Table.xlsx')\n",
    "        self.books = self.wb.active\n",
    "        self.dictionary = {\n",
    "            self.books.cell(row, 1).value: {\n",
    "                self.books.cell(1, 2).value: self.books.cell(row, 2).value.split(\"\\\"\")[1:4:2]\n",
    "                , self.books.cell(1, 3).value: self.books.cell(row, 3).value.split(\"\\\"\")[1:4:2]\n",
    "                , self.books.cell(1, 4).value: self.books.cell(row, 4).value.split(\"\\\"\")[1:4:2]\n",
    "            }\n",
    "            for row in\n",
    "            range(2, self.books.max_row + 1)\n",
    "        }\n",
    "\n",
    "    def add_book(self, book, sorting):\n",
    "        book = json.loads(book)\n",
    "        book_row = [\n",
    "            sorting,\n",
    "            '=HYPERLINK(\"{}\", \"{}\")'.format(book['الرواية\\n'][0], book['الرواية\\n'][1]),\n",
    "            '=HYPERLINK(\"{}\", \"{}\")'.format(book['المؤلف\\n'][0], book['المؤلف\\n'][1]),\n",
    "            '=HYPERLINK(\"{}\", \"{}\")'.format(book['البلد\\n'][0], book['البلد\\n'][1])]\n",
    "        self.books.append(book_row)\n",
    "        self.wb.save('Book_Table.xlsx')\n",
    "\n",
    "\n",
    "    def get_books(self):\n",
    "        self.update_dict()\n",
    "        return self.dictionary\n",
    "\n",
    "\n",
    "    def get_book(self, id):\n",
    "        try:\n",
    "            self.update_dict()\n",
    "            return self.dictionary[str(id) + \"\\n\"]\n",
    "        except:\n",
    "            return False\n",
    "\n",
    "\n",
    "    def delete_book(self, id):\n",
    "        try:\n",
    "            for i in range(1, self.books.max_row + 1):\n",
    "                if self.books.cell(row=i, column=1).value == id + \"\\n\":\n",
    "                    self.books.delete_rows(i, 1)\n",
    "            self.wb.save('Book_Table.xlsx')\n",
    "            return True\n",
    "        except:\n",
    "            return False\n",
    "\n",
    "    def edit_book(self, id, book):\n",
    "        try:\n",
    "            book = json.loads(book)\n",
    "\n",
    "            for i in range(1, self.books.max_row + 1):\n",
    "                if self.books.cell(row=i, column=1).value == id + \"\\n\":\n",
    "                    self.books.cell(row=i, column=2).value = '=HYPERLINK(\"{}\", \"{}\")'.format(book['الرواية\\n'][0],\n",
    "                                                                                             book['الرواية\\n'][1])\n",
    "                    self.books.cell(row=i, column=3).value = '=HYPERLINK(\"{}\", \"{}\")'.format(book['المؤلف\\n'][0],\n",
    "                                                                                             book['المؤلف\\n'][1])\n",
    "                    self.books.cell(row=i, column=4).value = '=HYPERLINK(\"{}\", \"{}\")'.format(book['البلد\\n'][0],\n",
    "                                                                                             book['البلد\\n'][1])\n",
    "                    self.wb.save('Book_Table.xlsx')\n",
    "\n",
    "            return book\n",
    "        except:\n",
    "            return False\n",
    "\n"
   ]
  },
  {
   "cell_type": "markdown",
   "metadata": {},
   "source": [
    "### Controllers"
   ]
  },
  {
   "cell_type": "code",
   "execution_count": 10,
   "metadata": {},
   "outputs": [],
   "source": [
    "\n",
    "class Book(Resource):\n",
    "\n",
    "    def get(self, id):\n",
    "        b = BooksModel()\n",
    "        book = b.get_book(id)\n",
    "        if book is False:\n",
    "            abort(404, message=\"Book {} doesn't exist\".format(id))\n",
    "\n",
    "        return book\n",
    "\n",
    "    def delete(self, id):\n",
    "        b = BooksModel()\n",
    "        if b.delete_book(id) is False:\n",
    "            abort(404, message=\"Book {} doesn't exist\".format(id))\n",
    "        return '', 204\n",
    "\n",
    "    def put(self, id):\n",
    "        b = BooksModel()\n",
    "        book = b.edit_book(id, book=request.form['book'])\n",
    "        if book is False:\n",
    "            abort(404, message=\"Book {} doesn't exist\".format(id))\n",
    "\n",
    "        return book, 201\n",
    "\n",
    "\n",
    "class Books(Resource):\n",
    "    def get(self):\n",
    "        b = BooksModel()\n",
    "        books = b.get_books()\n",
    "        return jsonify(book=books)\n",
    "\n",
    "    def post(self):\n",
    "        b = BooksModel()\n",
    "        book = b.add_book(request.form['book'], request.form['sorting'])\n",
    "\n",
    "        return book, 201\n",
    "\n",
    "\n"
   ]
  },
  {
   "cell_type": "code",
   "execution_count": 11,
   "metadata": {},
   "outputs": [
    {
     "name": "stdout",
     "output_type": "stream",
     "text": [
      " * Serving Flask app '__main__' (lazy loading)\n",
      " * Environment: production\n",
      "\u001b[31m   WARNING: This is a development server. Do not use it in a production deployment.\u001b[0m\n",
      "\u001b[2m   Use a production WSGI server instead.\u001b[0m\n",
      " * Debug mode: off\n"
     ]
    },
    {
     "name": "stderr",
     "output_type": "stream",
     "text": [
      " * Running on all addresses (0.0.0.0)\n",
      "   WARNING: This is a development server. Do not use it in a production deployment.\n",
      " * Running on http://127.0.0.1:5000\n",
      " * Running on http://192.168.1.8:5000 (Press CTRL+C to quit)\n"
     ]
    }
   ],
   "source": [
    "api.add_resource(Books, '/books')\n",
    "api.add_resource(Book, '/books/<id>')\n",
    "\n",
    "if __name__ == '__main__':\n",
    "    app.run(debug=False, host='0.0.0.0')"
   ]
  },
  {
   "cell_type": "markdown",
   "metadata": {},
   "source": [
    "## Problem 3\n",
    "\n",
    "Write a tool to create a PDF cover for the books, following the attached example \"book-cover-sample.pdf\". Considering the following:\n",
    "\n",
    "    1. The QR code should embed the book hyperlink from Wikipedia.\n",
    "    2. The QR code should be clickable to let the users acess it by clicking on it.\n",
    "    3. Include all the covers in one directory and compress it in ZIP format.\n",
    "    "
   ]
  },
  {
   "cell_type": "markdown",
   "metadata": {},
   "source": [
    "Write your code in the following cell. You are free to add cells as much as you need."
   ]
  },
  {
   "cell_type": "code",
   "execution_count": 12,
   "metadata": {},
   "outputs": [
    {
     "name": "stdout",
     "output_type": "stream",
     "text": [
      "Requirement already satisfied: qrcode in c:\\users\\nabil\\appdata\\local\\packages\\pythonsoftwarefoundation.python.3.10_qbz5n2kfra8p0\\localcache\\local-packages\\python310\\site-packages (7.3.1)\n",
      "Requirement already satisfied: FPDF in c:\\users\\nabil\\appdata\\local\\packages\\pythonsoftwarefoundation.python.3.10_qbz5n2kfra8p0\\localcache\\local-packages\\python310\\site-packages (1.7.2)\n",
      "Requirement already satisfied: colorama in c:\\users\\nabil\\appdata\\local\\packages\\pythonsoftwarefoundation.python.3.10_qbz5n2kfra8p0\\localcache\\local-packages\\python310\\site-packages (from qrcode) (0.4.5)\n"
     ]
    },
    {
     "name": "stderr",
     "output_type": "stream",
     "text": [
      "\n",
      "[notice] A new release of pip available: 22.2.2 -> 22.3\n",
      "[notice] To update, run: C:\\Users\\Nabil\\AppData\\Local\\Microsoft\\WindowsApps\\PythonSoftwareFoundation.Python.3.10_qbz5n2kfra8p0\\python.exe -m pip install --upgrade pip\n"
     ]
    }
   ],
   "source": [
    "! pip3 install qrcode FPDF"
   ]
  },
  {
   "cell_type": "code",
   "execution_count": 13,
   "metadata": {},
   "outputs": [
    {
     "name": "stderr",
     "output_type": "stream",
     "text": [
      "A subdirectory or file book_covers already exists.\n"
     ]
    }
   ],
   "source": [
    "! mkdir book_covers"
   ]
  },
  {
   "cell_type": "code",
   "execution_count": 14,
   "metadata": {},
   "outputs": [],
   "source": [
    "from enum import auto\n",
    "import qrcode\n",
    "from fpdf import FPDF\n",
    "import arabic_reshaper\n",
    "import shutil\n",
    " \n",
    "\n",
    "def generate_image(link,path):\n",
    "\n",
    "    path=\"book_covers/\"+path+\".png\"\n",
    "    img = qrcode.make(link)\n",
    "    img.save(path)\n",
    "\n",
    "    return path\n",
    "\n",
    "def generate_cover(link,path,auther):\n",
    "\n",
    "    pdf = FPDF()\n",
    "    pdf.add_page()\n",
    "    pdf.image(generate_image(link,path), x = None, y = None, type = '', link = link)\n",
    "    pdf.add_font('arabic', '', 'DejaVuSansCondensed.ttf', uni=True)\n",
    "    pdf.set_font('arabic', '',20 )\n",
    "    pdf.cell(200, 10, txt = arabic_reshaper.reshape(path)[::-1],ln = 1, align = 'C')\n",
    "    pdf.cell(w=200, h = 10, txt = arabic_reshaper.reshape(auther)[::-1], ln = 1, align = 'C')\n",
    "    pdf.output(\"book_covers/\"+path+'.pdf', 'F')\n"
   ]
  },
  {
   "cell_type": "code",
   "execution_count": null,
   "metadata": {},
   "outputs": [],
   "source": [
    "for book in table:\n",
    "    \n",
    "    link,name=book[table_head[1]].split(\"\\\"\")[1:4:2]\n",
    "    name=name.split(\"\\n\")[0]\n",
    "    auther=book[table_head[2]].split(\"\\\"\")[3].split(\"\\n\")[0]\n",
    "\n",
    "\n",
    "    generate_cover(link,name,auther)\n",
    "\n",
    "\n"
   ]
  },
  {
   "cell_type": "code",
   "execution_count": 24,
   "metadata": {},
   "outputs": [
    {
     "data": {
      "text/plain": [
       "'c:\\\\Users\\\\Nabil\\\\OneDrive\\\\المستندات\\\\Python_Tech_-_Application_Test_1\\\\books.zip'"
      ]
     },
     "execution_count": 24,
     "metadata": {},
     "output_type": "execute_result"
    }
   ],
   "source": [
    "\n",
    "shutil.make_archive(\"books\",\"zip\",\"book_covers\" )"
   ]
  },
  {
   "cell_type": "code",
   "execution_count": null,
   "metadata": {},
   "outputs": [],
   "source": []
  }
 ],
 "metadata": {
  "kernelspec": {
   "display_name": "Python 3.10.8 64-bit (microsoft store)",
   "language": "python",
   "name": "python3"
  },
  "language_info": {
   "codemirror_mode": {
    "name": "ipython",
    "version": 3
   },
   "file_extension": ".py",
   "mimetype": "text/x-python",
   "name": "python",
   "nbconvert_exporter": "python",
   "pygments_lexer": "ipython3",
   "version": "3.10.8"
  },
  "vscode": {
   "interpreter": {
    "hash": "6bf9ef2ad6b750a0a0908465fe17991ce54d152845dfa6feefa936905d9aa219"
   }
  }
 },
 "nbformat": 4,
 "nbformat_minor": 4
}
